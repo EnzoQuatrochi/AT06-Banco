{
 "cells": [
  {
   "cell_type": "markdown",
   "id": "0eafa2f2",
   "metadata": {},
   "source": [
    "# Análise de Dados -  Índice de desigualdade de gênero por país\n",
    "\n",
    "Link: https://www.kaggle.com/datasets/iamsouravbanerjee/gender-inequality-index-dataset?resource=download\n",
    "\n"
   ]
  },
  {
   "cell_type": "markdown",
   "id": "f386deb8",
   "metadata": {},
   "source": [
    "Insira o nome do grupo (no máximo 3 integrantes):  \n",
    "1)  TIAGO PEREIRA DA SILVA - 23012171\n",
    "2)  VINICIUS MENDES DA CUNHA - 23015801\n",
    "3)  ENZO CINTO QUATROCHI - 23015904"
   ]
  },
  {
   "cell_type": "markdown",
   "id": "90ad07cb",
   "metadata": {},
   "source": [
    "Coloque abaixo a importação de todas as bibliotecas necessárias:"
   ]
  },
  {
   "cell_type": "code",
   "id": "ac6e5591",
   "metadata": {
    "ExecuteTime": {
     "end_time": "2025-04-18T00:22:22.675937Z",
     "start_time": "2025-04-18T00:22:22.672429Z"
    }
   },
   "source": [
    "import pandas as pd\n",
    "import numpy as np"
   ],
   "outputs": [],
   "execution_count": 43
  },
  {
   "cell_type": "markdown",
   "id": "17370150",
   "metadata": {},
   "source": [
    "1) Faça a leitura do arquivo \"Gender Inequality Index.csv\" como um dataframe"
   ]
  },
  {
   "cell_type": "code",
   "id": "b186e9a7",
   "metadata": {
    "ExecuteTime": {
     "end_time": "2025-04-18T00:22:22.720369Z",
     "start_time": "2025-04-18T00:22:22.710246Z"
    }
   },
   "source": "df = pd.read_csv(\"Gender Inequality Index.csv\")",
   "outputs": [],
   "execution_count": 44
  },
  {
   "cell_type": "markdown",
   "id": "6c28f21e",
   "metadata": {},
   "source": [
    "2) Apresente as 10 primeiras linhas do arquivo:"
   ]
  },
  {
   "cell_type": "code",
   "id": "5d83a8d0",
   "metadata": {
    "ExecuteTime": {
     "end_time": "2025-04-18T00:22:22.774071Z",
     "start_time": "2025-04-18T00:22:22.745980Z"
    }
   },
   "source": "df.head(10)",
   "outputs": [
    {
     "data": {
      "text/plain": [
       "  ISO3               Country Continent           Hemisphere  \\\n",
       "0  AFG           Afghanistan      Asia  Northern Hemisphere   \n",
       "1  AGO                Angola    Africa  Southern Hemisphere   \n",
       "2  ALB               Albania    Europe  Northern Hemisphere   \n",
       "3  AND               Andorra    Europe  Northern Hemisphere   \n",
       "4  ARE  United Arab Emirates      Asia  Northern Hemisphere   \n",
       "5  ARG             Argentina   America  Southern Hemisphere   \n",
       "6  ARM               Armenia      Asia  Northern Hemisphere   \n",
       "7  ATG   Antigua and Barbuda   America  Northern Hemisphere   \n",
       "8  AUS             Australia   Oceania  Southern Hemisphere   \n",
       "9  AUT               Austria    Europe  Northern Hemisphere   \n",
       "\n",
       "  Human Development Groups UNDP Developing Regions  HDI Rank (2021)  \\\n",
       "0                      Low                      SA            180.0   \n",
       "1                   Medium                     SSA            148.0   \n",
       "2                     High                     ECA             67.0   \n",
       "3                Very High                     NaN             40.0   \n",
       "4                Very High                      AS             26.0   \n",
       "5                Very High                     LAC             47.0   \n",
       "6                     High                     ECA             85.0   \n",
       "7                     High                     LAC             71.0   \n",
       "8                Very High                     NaN              5.0   \n",
       "9                Very High                     NaN             25.0   \n",
       "\n",
       "   GII Rank (2021)  Gender Inequality Index (1990)  \\\n",
       "0            167.0                             NaN   \n",
       "1            136.0                           0.725   \n",
       "2             39.0                             NaN   \n",
       "3              NaN                             NaN   \n",
       "4             11.0                           0.659   \n",
       "5             69.0                           0.442   \n",
       "6             53.0                           0.470   \n",
       "7              NaN                             NaN   \n",
       "8             19.0                           0.185   \n",
       "9             12.0                           0.202   \n",
       "\n",
       "   Gender Inequality Index (1991)  ...  Gender Inequality Index (2012)  \\\n",
       "0                             NaN  ...                           0.738   \n",
       "1                           0.723  ...                           0.545   \n",
       "2                             NaN  ...                           0.235   \n",
       "3                             NaN  ...                             NaN   \n",
       "4                           0.647  ...                           0.171   \n",
       "5                           0.439  ...                           0.360   \n",
       "6                           0.468  ...                           0.327   \n",
       "7                             NaN  ...                             NaN   \n",
       "8                           0.184  ...                           0.130   \n",
       "9                           0.204  ...                           0.098   \n",
       "\n",
       "   Gender Inequality Index (2013)  Gender Inequality Index (2014)  \\\n",
       "0                           0.728                           0.718   \n",
       "1                           0.540                           0.531   \n",
       "2                           0.225                           0.219   \n",
       "3                             NaN                             NaN   \n",
       "4                           0.161                           0.151   \n",
       "5                           0.356                           0.351   \n",
       "6                           0.305                           0.313   \n",
       "7                             NaN                             NaN   \n",
       "8                           0.123                           0.117   \n",
       "9                           0.086                           0.083   \n",
       "\n",
       "   Gender Inequality Index (2015)  Gender Inequality Index (2016)  \\\n",
       "0                           0.706                           0.692   \n",
       "1                           0.530                           0.529   \n",
       "2                           0.204                           0.191   \n",
       "3                             NaN                             NaN   \n",
       "4                           0.126                           0.118   \n",
       "5                           0.345                           0.338   \n",
       "6                           0.309                           0.306   \n",
       "7                             NaN                             NaN   \n",
       "8                           0.111                           0.101   \n",
       "9                           0.084                           0.082   \n",
       "\n",
       "   Gender Inequality Index (2017)  Gender Inequality Index (2018)  \\\n",
       "0                           0.678                           0.671   \n",
       "1                           0.538                           0.537   \n",
       "2                           0.170                           0.164   \n",
       "3                             NaN                             NaN   \n",
       "4                           0.112                           0.103   \n",
       "5                           0.328                           0.315   \n",
       "6                           0.261                           0.260   \n",
       "7                             NaN                             NaN   \n",
       "8                           0.096                           0.092   \n",
       "9                           0.072                           0.061   \n",
       "\n",
       "   Gender Inequality Index (2019)  Gender Inequality Index (2020)  \\\n",
       "0                           0.665                           0.674   \n",
       "1                           0.537                           0.537   \n",
       "2                           0.156                           0.156   \n",
       "3                             NaN                             NaN   \n",
       "4                           0.056                           0.050   \n",
       "5                           0.306                           0.293   \n",
       "6                           0.239                           0.239   \n",
       "7                             NaN                             NaN   \n",
       "8                           0.080                           0.074   \n",
       "9                           0.054                           0.052   \n",
       "\n",
       "   Gender Inequality Index (2021)  \n",
       "0                           0.678  \n",
       "1                           0.537  \n",
       "2                           0.144  \n",
       "3                             NaN  \n",
       "4                           0.049  \n",
       "5                           0.287  \n",
       "6                           0.216  \n",
       "7                             NaN  \n",
       "8                           0.073  \n",
       "9                           0.053  \n",
       "\n",
       "[10 rows x 40 columns]"
      ],
      "text/html": [
       "<div>\n",
       "<style scoped>\n",
       "    .dataframe tbody tr th:only-of-type {\n",
       "        vertical-align: middle;\n",
       "    }\n",
       "\n",
       "    .dataframe tbody tr th {\n",
       "        vertical-align: top;\n",
       "    }\n",
       "\n",
       "    .dataframe thead th {\n",
       "        text-align: right;\n",
       "    }\n",
       "</style>\n",
       "<table border=\"1\" class=\"dataframe\">\n",
       "  <thead>\n",
       "    <tr style=\"text-align: right;\">\n",
       "      <th></th>\n",
       "      <th>ISO3</th>\n",
       "      <th>Country</th>\n",
       "      <th>Continent</th>\n",
       "      <th>Hemisphere</th>\n",
       "      <th>Human Development Groups</th>\n",
       "      <th>UNDP Developing Regions</th>\n",
       "      <th>HDI Rank (2021)</th>\n",
       "      <th>GII Rank (2021)</th>\n",
       "      <th>Gender Inequality Index (1990)</th>\n",
       "      <th>Gender Inequality Index (1991)</th>\n",
       "      <th>...</th>\n",
       "      <th>Gender Inequality Index (2012)</th>\n",
       "      <th>Gender Inequality Index (2013)</th>\n",
       "      <th>Gender Inequality Index (2014)</th>\n",
       "      <th>Gender Inequality Index (2015)</th>\n",
       "      <th>Gender Inequality Index (2016)</th>\n",
       "      <th>Gender Inequality Index (2017)</th>\n",
       "      <th>Gender Inequality Index (2018)</th>\n",
       "      <th>Gender Inequality Index (2019)</th>\n",
       "      <th>Gender Inequality Index (2020)</th>\n",
       "      <th>Gender Inequality Index (2021)</th>\n",
       "    </tr>\n",
       "  </thead>\n",
       "  <tbody>\n",
       "    <tr>\n",
       "      <th>0</th>\n",
       "      <td>AFG</td>\n",
       "      <td>Afghanistan</td>\n",
       "      <td>Asia</td>\n",
       "      <td>Northern Hemisphere</td>\n",
       "      <td>Low</td>\n",
       "      <td>SA</td>\n",
       "      <td>180.0</td>\n",
       "      <td>167.0</td>\n",
       "      <td>NaN</td>\n",
       "      <td>NaN</td>\n",
       "      <td>...</td>\n",
       "      <td>0.738</td>\n",
       "      <td>0.728</td>\n",
       "      <td>0.718</td>\n",
       "      <td>0.706</td>\n",
       "      <td>0.692</td>\n",
       "      <td>0.678</td>\n",
       "      <td>0.671</td>\n",
       "      <td>0.665</td>\n",
       "      <td>0.674</td>\n",
       "      <td>0.678</td>\n",
       "    </tr>\n",
       "    <tr>\n",
       "      <th>1</th>\n",
       "      <td>AGO</td>\n",
       "      <td>Angola</td>\n",
       "      <td>Africa</td>\n",
       "      <td>Southern Hemisphere</td>\n",
       "      <td>Medium</td>\n",
       "      <td>SSA</td>\n",
       "      <td>148.0</td>\n",
       "      <td>136.0</td>\n",
       "      <td>0.725</td>\n",
       "      <td>0.723</td>\n",
       "      <td>...</td>\n",
       "      <td>0.545</td>\n",
       "      <td>0.540</td>\n",
       "      <td>0.531</td>\n",
       "      <td>0.530</td>\n",
       "      <td>0.529</td>\n",
       "      <td>0.538</td>\n",
       "      <td>0.537</td>\n",
       "      <td>0.537</td>\n",
       "      <td>0.537</td>\n",
       "      <td>0.537</td>\n",
       "    </tr>\n",
       "    <tr>\n",
       "      <th>2</th>\n",
       "      <td>ALB</td>\n",
       "      <td>Albania</td>\n",
       "      <td>Europe</td>\n",
       "      <td>Northern Hemisphere</td>\n",
       "      <td>High</td>\n",
       "      <td>ECA</td>\n",
       "      <td>67.0</td>\n",
       "      <td>39.0</td>\n",
       "      <td>NaN</td>\n",
       "      <td>NaN</td>\n",
       "      <td>...</td>\n",
       "      <td>0.235</td>\n",
       "      <td>0.225</td>\n",
       "      <td>0.219</td>\n",
       "      <td>0.204</td>\n",
       "      <td>0.191</td>\n",
       "      <td>0.170</td>\n",
       "      <td>0.164</td>\n",
       "      <td>0.156</td>\n",
       "      <td>0.156</td>\n",
       "      <td>0.144</td>\n",
       "    </tr>\n",
       "    <tr>\n",
       "      <th>3</th>\n",
       "      <td>AND</td>\n",
       "      <td>Andorra</td>\n",
       "      <td>Europe</td>\n",
       "      <td>Northern Hemisphere</td>\n",
       "      <td>Very High</td>\n",
       "      <td>NaN</td>\n",
       "      <td>40.0</td>\n",
       "      <td>NaN</td>\n",
       "      <td>NaN</td>\n",
       "      <td>NaN</td>\n",
       "      <td>...</td>\n",
       "      <td>NaN</td>\n",
       "      <td>NaN</td>\n",
       "      <td>NaN</td>\n",
       "      <td>NaN</td>\n",
       "      <td>NaN</td>\n",
       "      <td>NaN</td>\n",
       "      <td>NaN</td>\n",
       "      <td>NaN</td>\n",
       "      <td>NaN</td>\n",
       "      <td>NaN</td>\n",
       "    </tr>\n",
       "    <tr>\n",
       "      <th>4</th>\n",
       "      <td>ARE</td>\n",
       "      <td>United Arab Emirates</td>\n",
       "      <td>Asia</td>\n",
       "      <td>Northern Hemisphere</td>\n",
       "      <td>Very High</td>\n",
       "      <td>AS</td>\n",
       "      <td>26.0</td>\n",
       "      <td>11.0</td>\n",
       "      <td>0.659</td>\n",
       "      <td>0.647</td>\n",
       "      <td>...</td>\n",
       "      <td>0.171</td>\n",
       "      <td>0.161</td>\n",
       "      <td>0.151</td>\n",
       "      <td>0.126</td>\n",
       "      <td>0.118</td>\n",
       "      <td>0.112</td>\n",
       "      <td>0.103</td>\n",
       "      <td>0.056</td>\n",
       "      <td>0.050</td>\n",
       "      <td>0.049</td>\n",
       "    </tr>\n",
       "    <tr>\n",
       "      <th>5</th>\n",
       "      <td>ARG</td>\n",
       "      <td>Argentina</td>\n",
       "      <td>America</td>\n",
       "      <td>Southern Hemisphere</td>\n",
       "      <td>Very High</td>\n",
       "      <td>LAC</td>\n",
       "      <td>47.0</td>\n",
       "      <td>69.0</td>\n",
       "      <td>0.442</td>\n",
       "      <td>0.439</td>\n",
       "      <td>...</td>\n",
       "      <td>0.360</td>\n",
       "      <td>0.356</td>\n",
       "      <td>0.351</td>\n",
       "      <td>0.345</td>\n",
       "      <td>0.338</td>\n",
       "      <td>0.328</td>\n",
       "      <td>0.315</td>\n",
       "      <td>0.306</td>\n",
       "      <td>0.293</td>\n",
       "      <td>0.287</td>\n",
       "    </tr>\n",
       "    <tr>\n",
       "      <th>6</th>\n",
       "      <td>ARM</td>\n",
       "      <td>Armenia</td>\n",
       "      <td>Asia</td>\n",
       "      <td>Northern Hemisphere</td>\n",
       "      <td>High</td>\n",
       "      <td>ECA</td>\n",
       "      <td>85.0</td>\n",
       "      <td>53.0</td>\n",
       "      <td>0.470</td>\n",
       "      <td>0.468</td>\n",
       "      <td>...</td>\n",
       "      <td>0.327</td>\n",
       "      <td>0.305</td>\n",
       "      <td>0.313</td>\n",
       "      <td>0.309</td>\n",
       "      <td>0.306</td>\n",
       "      <td>0.261</td>\n",
       "      <td>0.260</td>\n",
       "      <td>0.239</td>\n",
       "      <td>0.239</td>\n",
       "      <td>0.216</td>\n",
       "    </tr>\n",
       "    <tr>\n",
       "      <th>7</th>\n",
       "      <td>ATG</td>\n",
       "      <td>Antigua and Barbuda</td>\n",
       "      <td>America</td>\n",
       "      <td>Northern Hemisphere</td>\n",
       "      <td>High</td>\n",
       "      <td>LAC</td>\n",
       "      <td>71.0</td>\n",
       "      <td>NaN</td>\n",
       "      <td>NaN</td>\n",
       "      <td>NaN</td>\n",
       "      <td>...</td>\n",
       "      <td>NaN</td>\n",
       "      <td>NaN</td>\n",
       "      <td>NaN</td>\n",
       "      <td>NaN</td>\n",
       "      <td>NaN</td>\n",
       "      <td>NaN</td>\n",
       "      <td>NaN</td>\n",
       "      <td>NaN</td>\n",
       "      <td>NaN</td>\n",
       "      <td>NaN</td>\n",
       "    </tr>\n",
       "    <tr>\n",
       "      <th>8</th>\n",
       "      <td>AUS</td>\n",
       "      <td>Australia</td>\n",
       "      <td>Oceania</td>\n",
       "      <td>Southern Hemisphere</td>\n",
       "      <td>Very High</td>\n",
       "      <td>NaN</td>\n",
       "      <td>5.0</td>\n",
       "      <td>19.0</td>\n",
       "      <td>0.185</td>\n",
       "      <td>0.184</td>\n",
       "      <td>...</td>\n",
       "      <td>0.130</td>\n",
       "      <td>0.123</td>\n",
       "      <td>0.117</td>\n",
       "      <td>0.111</td>\n",
       "      <td>0.101</td>\n",
       "      <td>0.096</td>\n",
       "      <td>0.092</td>\n",
       "      <td>0.080</td>\n",
       "      <td>0.074</td>\n",
       "      <td>0.073</td>\n",
       "    </tr>\n",
       "    <tr>\n",
       "      <th>9</th>\n",
       "      <td>AUT</td>\n",
       "      <td>Austria</td>\n",
       "      <td>Europe</td>\n",
       "      <td>Northern Hemisphere</td>\n",
       "      <td>Very High</td>\n",
       "      <td>NaN</td>\n",
       "      <td>25.0</td>\n",
       "      <td>12.0</td>\n",
       "      <td>0.202</td>\n",
       "      <td>0.204</td>\n",
       "      <td>...</td>\n",
       "      <td>0.098</td>\n",
       "      <td>0.086</td>\n",
       "      <td>0.083</td>\n",
       "      <td>0.084</td>\n",
       "      <td>0.082</td>\n",
       "      <td>0.072</td>\n",
       "      <td>0.061</td>\n",
       "      <td>0.054</td>\n",
       "      <td>0.052</td>\n",
       "      <td>0.053</td>\n",
       "    </tr>\n",
       "  </tbody>\n",
       "</table>\n",
       "<p>10 rows × 40 columns</p>\n",
       "</div>"
      ]
     },
     "execution_count": 45,
     "metadata": {},
     "output_type": "execute_result"
    }
   ],
   "execution_count": 45
  },
  {
   "cell_type": "markdown",
   "id": "6b72a8ae",
   "metadata": {},
   "source": [
    "3) Qual o formato do DataFrame? (Ou seja, quantas linhas e quantas colunas ele possui?)"
   ]
  },
  {
   "cell_type": "code",
   "id": "64a43cc3",
   "metadata": {
    "ExecuteTime": {
     "end_time": "2025-04-18T00:22:22.854968Z",
     "start_time": "2025-04-18T00:22:22.841325Z"
    }
   },
   "source": "df.info()",
   "outputs": [
    {
     "name": "stdout",
     "output_type": "stream",
     "text": [
      "<class 'pandas.core.frame.DataFrame'>\n",
      "RangeIndex: 195 entries, 0 to 194\n",
      "Data columns (total 40 columns):\n",
      " #   Column                          Non-Null Count  Dtype  \n",
      "---  ------                          --------------  -----  \n",
      " 0   ISO3                            195 non-null    object \n",
      " 1   Country                         195 non-null    object \n",
      " 2   Continent                       195 non-null    object \n",
      " 3   Hemisphere                      195 non-null    object \n",
      " 4   Human Development Groups        191 non-null    object \n",
      " 5   UNDP Developing Regions         151 non-null    object \n",
      " 6   HDI Rank (2021)                 191 non-null    float64\n",
      " 7   GII Rank (2021)                 170 non-null    float64\n",
      " 8   Gender Inequality Index (1990)  128 non-null    float64\n",
      " 9   Gender Inequality Index (1991)  128 non-null    float64\n",
      " 10  Gender Inequality Index (1992)  128 non-null    float64\n",
      " 11  Gender Inequality Index (1993)  128 non-null    float64\n",
      " 12  Gender Inequality Index (1994)  128 non-null    float64\n",
      " 13  Gender Inequality Index (1995)  130 non-null    float64\n",
      " 14  Gender Inequality Index (1996)  130 non-null    float64\n",
      " 15  Gender Inequality Index (1997)  130 non-null    float64\n",
      " 16  Gender Inequality Index (1998)  136 non-null    float64\n",
      " 17  Gender Inequality Index (1999)  141 non-null    float64\n",
      " 18  Gender Inequality Index (2000)  144 non-null    float64\n",
      " 19  Gender Inequality Index (2001)  149 non-null    float64\n",
      " 20  Gender Inequality Index (2002)  150 non-null    float64\n",
      " 21  Gender Inequality Index (2003)  153 non-null    float64\n",
      " 22  Gender Inequality Index (2004)  156 non-null    float64\n",
      " 23  Gender Inequality Index (2005)  159 non-null    float64\n",
      " 24  Gender Inequality Index (2006)  162 non-null    float64\n",
      " 25  Gender Inequality Index (2007)  163 non-null    float64\n",
      " 26  Gender Inequality Index (2008)  163 non-null    float64\n",
      " 27  Gender Inequality Index (2009)  163 non-null    float64\n",
      " 28  Gender Inequality Index (2010)  165 non-null    float64\n",
      " 29  Gender Inequality Index (2011)  167 non-null    float64\n",
      " 30  Gender Inequality Index (2012)  167 non-null    float64\n",
      " 31  Gender Inequality Index (2013)  167 non-null    float64\n",
      " 32  Gender Inequality Index (2014)  167 non-null    float64\n",
      " 33  Gender Inequality Index (2015)  168 non-null    float64\n",
      " 34  Gender Inequality Index (2016)  169 non-null    float64\n",
      " 35  Gender Inequality Index (2017)  170 non-null    float64\n",
      " 36  Gender Inequality Index (2018)  170 non-null    float64\n",
      " 37  Gender Inequality Index (2019)  170 non-null    float64\n",
      " 38  Gender Inequality Index (2020)  170 non-null    float64\n",
      " 39  Gender Inequality Index (2021)  170 non-null    float64\n",
      "dtypes: float64(34), object(6)\n",
      "memory usage: 61.1+ KB\n"
     ]
    }
   ],
   "execution_count": 46
  },
  {
   "metadata": {},
   "cell_type": "markdown",
   "source": "O dataframe tem o formato de uma matriz, que possui 195 linhas e 40 colunas.",
   "id": "929ec84fda8b6fd6"
  },
  {
   "cell_type": "markdown",
   "id": "8abcf4cf",
   "metadata": {},
   "source": [
    "4) Quais são os nomes de todas as colunas do dataframe?"
   ]
  },
  {
   "cell_type": "code",
   "id": "ed97f395",
   "metadata": {
    "ExecuteTime": {
     "end_time": "2025-04-18T00:22:22.934390Z",
     "start_time": "2025-04-18T00:22:22.926640Z"
    }
   },
   "source": "df.columns",
   "outputs": [
    {
     "data": {
      "text/plain": [
       "Index(['ISO3', 'Country', 'Continent', 'Hemisphere',\n",
       "       'Human Development Groups', 'UNDP Developing Regions',\n",
       "       'HDI Rank (2021)', 'GII Rank (2021)', 'Gender Inequality Index (1990)',\n",
       "       'Gender Inequality Index (1991)', 'Gender Inequality Index (1992)',\n",
       "       'Gender Inequality Index (1993)', 'Gender Inequality Index (1994)',\n",
       "       'Gender Inequality Index (1995)', 'Gender Inequality Index (1996)',\n",
       "       'Gender Inequality Index (1997)', 'Gender Inequality Index (1998)',\n",
       "       'Gender Inequality Index (1999)', 'Gender Inequality Index (2000)',\n",
       "       'Gender Inequality Index (2001)', 'Gender Inequality Index (2002)',\n",
       "       'Gender Inequality Index (2003)', 'Gender Inequality Index (2004)',\n",
       "       'Gender Inequality Index (2005)', 'Gender Inequality Index (2006)',\n",
       "       'Gender Inequality Index (2007)', 'Gender Inequality Index (2008)',\n",
       "       'Gender Inequality Index (2009)', 'Gender Inequality Index (2010)',\n",
       "       'Gender Inequality Index (2011)', 'Gender Inequality Index (2012)',\n",
       "       'Gender Inequality Index (2013)', 'Gender Inequality Index (2014)',\n",
       "       'Gender Inequality Index (2015)', 'Gender Inequality Index (2016)',\n",
       "       'Gender Inequality Index (2017)', 'Gender Inequality Index (2018)',\n",
       "       'Gender Inequality Index (2019)', 'Gender Inequality Index (2020)',\n",
       "       'Gender Inequality Index (2021)'],\n",
       "      dtype='object')"
      ]
     },
     "execution_count": 47,
     "metadata": {},
     "output_type": "execute_result"
    }
   ],
   "execution_count": 47
  },
  {
   "cell_type": "markdown",
   "id": "6c89f8bf",
   "metadata": {},
   "source": [
    "5) Renomeie as colunas conforme lista abaixo:\n",
    "* Country -> País\n",
    "* Continent -> Continente\n",
    "* Hemisphere -> Hemisfério\n",
    "* Human Development Groups -> Grupo de Desenvolvimento Humano\n",
    "* UNDP Developing Regions -> Regiões em desenvolvimento do UNDP\n",
    "* HDI Rank (2021) -> IDH Rank (2021)\n",
    "* GII Rank (2021) -> IDG Rank (2021)"
   ]
  },
  {
   "cell_type": "code",
   "id": "7dead83c",
   "metadata": {
    "ExecuteTime": {
     "end_time": "2025-04-18T00:22:23.194812Z",
     "start_time": "2025-04-18T00:22:23.188294Z"
    }
   },
   "source": [
    "df.rename(columns={\"Country\":\"País\",\n",
    "                   \"Continent\":\"Continente\",\n",
    "                   \"Hemisphere\":\"Hemisfério\",\n",
    "                   \"Human Development Groups\":\"Grupo de Desenvolvimento Humano\",\n",
    "                   \"UNDP Developing Regions\":\"Regiões em desenvolvimento do UNDP\",\n",
    "                   \"HDI Rank (2021)\":\"IDH Rank (2021)\",\n",
    "                   \"GII Rank (2021)\":\"IDG Rank (2021)\",}, inplace=True)"
   ],
   "outputs": [],
   "execution_count": 48
  },
  {
   "cell_type": "markdown",
   "id": "6ead8667",
   "metadata": {},
   "source": [
    "6) Acesse o registro da linha de indice 123."
   ]
  },
  {
   "cell_type": "code",
   "id": "26a5fe56",
   "metadata": {
    "ExecuteTime": {
     "end_time": "2025-04-18T00:22:23.312448Z",
     "start_time": "2025-04-18T00:22:23.305406Z"
    }
   },
   "source": "df.iloc[123]",
   "outputs": [
    {
     "data": {
      "text/plain": [
       "ISO3                                                  MWI\n",
       "País                                               Malawi\n",
       "Continente                                         Africa\n",
       "Hemisfério                            Southern Hemisphere\n",
       "Grupo de Desenvolvimento Humano                       Low\n",
       "Regiões em desenvolvimento do UNDP                    SSA\n",
       "IDH Rank (2021)                                     169.0\n",
       "IDG Rank (2021)                                     142.0\n",
       "Gender Inequality Index (1990)                      0.718\n",
       "Gender Inequality Index (1991)                      0.717\n",
       "Gender Inequality Index (1992)                      0.714\n",
       "Gender Inequality Index (1993)                      0.711\n",
       "Gender Inequality Index (1994)                       0.71\n",
       "Gender Inequality Index (1995)                      0.708\n",
       "Gender Inequality Index (1996)                      0.706\n",
       "Gender Inequality Index (1997)                      0.705\n",
       "Gender Inequality Index (1998)                      0.704\n",
       "Gender Inequality Index (1999)                      0.687\n",
       "Gender Inequality Index (2000)                      0.681\n",
       "Gender Inequality Index (2001)                      0.679\n",
       "Gender Inequality Index (2002)                      0.677\n",
       "Gender Inequality Index (2003)                      0.674\n",
       "Gender Inequality Index (2004)                      0.653\n",
       "Gender Inequality Index (2005)                      0.651\n",
       "Gender Inequality Index (2006)                      0.643\n",
       "Gender Inequality Index (2007)                      0.637\n",
       "Gender Inequality Index (2008)                       0.63\n",
       "Gender Inequality Index (2009)                      0.602\n",
       "Gender Inequality Index (2010)                      0.597\n",
       "Gender Inequality Index (2011)                      0.589\n",
       "Gender Inequality Index (2012)                      0.585\n",
       "Gender Inequality Index (2013)                       0.58\n",
       "Gender Inequality Index (2014)                      0.589\n",
       "Gender Inequality Index (2015)                      0.585\n",
       "Gender Inequality Index (2016)                       0.58\n",
       "Gender Inequality Index (2017)                      0.576\n",
       "Gender Inequality Index (2018)                      0.574\n",
       "Gender Inequality Index (2019)                      0.555\n",
       "Gender Inequality Index (2020)                      0.555\n",
       "Gender Inequality Index (2021)                      0.554\n",
       "Name: 123, dtype: object"
      ]
     },
     "execution_count": 49,
     "metadata": {},
     "output_type": "execute_result"
    }
   ],
   "execution_count": 49
  },
  {
   "cell_type": "markdown",
   "id": "56a9627c",
   "metadata": {},
   "source": [
    "7) Acesse as informações da coluna \"IDH Rank (2021)\""
   ]
  },
  {
   "cell_type": "code",
   "id": "0c272cb3",
   "metadata": {
    "ExecuteTime": {
     "end_time": "2025-04-18T00:22:23.471358Z",
     "start_time": "2025-04-18T00:22:23.464087Z"
    }
   },
   "source": "df[\"IDH Rank (2021)\"]",
   "outputs": [
    {
     "data": {
      "text/plain": [
       "0      180.0\n",
       "1      148.0\n",
       "2       67.0\n",
       "3       40.0\n",
       "4       26.0\n",
       "       ...  \n",
       "190    111.0\n",
       "191    183.0\n",
       "192    109.0\n",
       "193    154.0\n",
       "194    146.0\n",
       "Name: IDH Rank (2021), Length: 195, dtype: float64"
      ]
     },
     "execution_count": 50,
     "metadata": {},
     "output_type": "execute_result"
    }
   ],
   "execution_count": 50
  },
  {
   "cell_type": "markdown",
   "id": "c0fb53e0",
   "metadata": {},
   "source": [
    "8) Encontre as informações referentes ao Brasil (Dica: O nome do país está como \"Brazil\")"
   ]
  },
  {
   "cell_type": "code",
   "id": "ced5fb82",
   "metadata": {
    "ExecuteTime": {
     "end_time": "2025-04-18T00:22:23.649516Z",
     "start_time": "2025-04-18T00:22:23.628748Z"
    }
   },
   "source": "df[df[\"País\"] == \"Brazil\"]",
   "outputs": [
    {
     "data": {
      "text/plain": [
       "   ISO3    País Continente           Hemisfério  \\\n",
       "23  BRA  Brazil    America  Southern Hemisphere   \n",
       "\n",
       "   Grupo de Desenvolvimento Humano Regiões em desenvolvimento do UNDP  \\\n",
       "23                            High                                LAC   \n",
       "\n",
       "    IDH Rank (2021)  IDG Rank (2021)  Gender Inequality Index (1990)  \\\n",
       "23             87.0             94.0                           0.552   \n",
       "\n",
       "    Gender Inequality Index (1991)  ...  Gender Inequality Index (2012)  \\\n",
       "23                           0.549  ...                           0.444   \n",
       "\n",
       "    Gender Inequality Index (2013)  Gender Inequality Index (2014)  \\\n",
       "23                           0.444                            0.44   \n",
       "\n",
       "    Gender Inequality Index (2015)  Gender Inequality Index (2016)  \\\n",
       "23                           0.437                           0.431   \n",
       "\n",
       "    Gender Inequality Index (2017)  Gender Inequality Index (2018)  \\\n",
       "23                           0.421                           0.401   \n",
       "\n",
       "    Gender Inequality Index (2019)  Gender Inequality Index (2020)  \\\n",
       "23                           0.395                           0.395   \n",
       "\n",
       "    Gender Inequality Index (2021)  \n",
       "23                            0.39  \n",
       "\n",
       "[1 rows x 40 columns]"
      ],
      "text/html": [
       "<div>\n",
       "<style scoped>\n",
       "    .dataframe tbody tr th:only-of-type {\n",
       "        vertical-align: middle;\n",
       "    }\n",
       "\n",
       "    .dataframe tbody tr th {\n",
       "        vertical-align: top;\n",
       "    }\n",
       "\n",
       "    .dataframe thead th {\n",
       "        text-align: right;\n",
       "    }\n",
       "</style>\n",
       "<table border=\"1\" class=\"dataframe\">\n",
       "  <thead>\n",
       "    <tr style=\"text-align: right;\">\n",
       "      <th></th>\n",
       "      <th>ISO3</th>\n",
       "      <th>País</th>\n",
       "      <th>Continente</th>\n",
       "      <th>Hemisfério</th>\n",
       "      <th>Grupo de Desenvolvimento Humano</th>\n",
       "      <th>Regiões em desenvolvimento do UNDP</th>\n",
       "      <th>IDH Rank (2021)</th>\n",
       "      <th>IDG Rank (2021)</th>\n",
       "      <th>Gender Inequality Index (1990)</th>\n",
       "      <th>Gender Inequality Index (1991)</th>\n",
       "      <th>...</th>\n",
       "      <th>Gender Inequality Index (2012)</th>\n",
       "      <th>Gender Inequality Index (2013)</th>\n",
       "      <th>Gender Inequality Index (2014)</th>\n",
       "      <th>Gender Inequality Index (2015)</th>\n",
       "      <th>Gender Inequality Index (2016)</th>\n",
       "      <th>Gender Inequality Index (2017)</th>\n",
       "      <th>Gender Inequality Index (2018)</th>\n",
       "      <th>Gender Inequality Index (2019)</th>\n",
       "      <th>Gender Inequality Index (2020)</th>\n",
       "      <th>Gender Inequality Index (2021)</th>\n",
       "    </tr>\n",
       "  </thead>\n",
       "  <tbody>\n",
       "    <tr>\n",
       "      <th>23</th>\n",
       "      <td>BRA</td>\n",
       "      <td>Brazil</td>\n",
       "      <td>America</td>\n",
       "      <td>Southern Hemisphere</td>\n",
       "      <td>High</td>\n",
       "      <td>LAC</td>\n",
       "      <td>87.0</td>\n",
       "      <td>94.0</td>\n",
       "      <td>0.552</td>\n",
       "      <td>0.549</td>\n",
       "      <td>...</td>\n",
       "      <td>0.444</td>\n",
       "      <td>0.444</td>\n",
       "      <td>0.44</td>\n",
       "      <td>0.437</td>\n",
       "      <td>0.431</td>\n",
       "      <td>0.421</td>\n",
       "      <td>0.401</td>\n",
       "      <td>0.395</td>\n",
       "      <td>0.395</td>\n",
       "      <td>0.39</td>\n",
       "    </tr>\n",
       "  </tbody>\n",
       "</table>\n",
       "<p>1 rows × 40 columns</p>\n",
       "</div>"
      ]
     },
     "execution_count": 51,
     "metadata": {},
     "output_type": "execute_result"
    }
   ],
   "execution_count": 51
  },
  {
   "cell_type": "markdown",
   "id": "32e79d2d",
   "metadata": {},
   "source": [
    "9) Transforme o Nome do País como Index do Dataframe. Em seguida, remova a coluna País."
   ]
  },
  {
   "cell_type": "code",
   "id": "9cb2216a",
   "metadata": {
    "ExecuteTime": {
     "end_time": "2025-04-18T00:22:23.809907Z",
     "start_time": "2025-04-18T00:22:23.777560Z"
    }
   },
   "source": [
    "df['index'] = df['País']\n",
    "df.set_index('index', inplace=True)\n",
    "df.drop(\"País\", axis=1, inplace=True)\n",
    "df.head()\n"
   ],
   "outputs": [
    {
     "data": {
      "text/plain": [
       "                     ISO3 Continente           Hemisfério  \\\n",
       "index                                                       \n",
       "Afghanistan           AFG       Asia  Northern Hemisphere   \n",
       "Angola                AGO     Africa  Southern Hemisphere   \n",
       "Albania               ALB     Europe  Northern Hemisphere   \n",
       "Andorra               AND     Europe  Northern Hemisphere   \n",
       "United Arab Emirates  ARE       Asia  Northern Hemisphere   \n",
       "\n",
       "                     Grupo de Desenvolvimento Humano  \\\n",
       "index                                                  \n",
       "Afghanistan                                      Low   \n",
       "Angola                                        Medium   \n",
       "Albania                                         High   \n",
       "Andorra                                    Very High   \n",
       "United Arab Emirates                       Very High   \n",
       "\n",
       "                     Regiões em desenvolvimento do UNDP  IDH Rank (2021)  \\\n",
       "index                                                                      \n",
       "Afghanistan                                          SA            180.0   \n",
       "Angola                                              SSA            148.0   \n",
       "Albania                                             ECA             67.0   \n",
       "Andorra                                             NaN             40.0   \n",
       "United Arab Emirates                                 AS             26.0   \n",
       "\n",
       "                      IDG Rank (2021)  Gender Inequality Index (1990)  \\\n",
       "index                                                                   \n",
       "Afghanistan                     167.0                             NaN   \n",
       "Angola                          136.0                           0.725   \n",
       "Albania                          39.0                             NaN   \n",
       "Andorra                           NaN                             NaN   \n",
       "United Arab Emirates             11.0                           0.659   \n",
       "\n",
       "                      Gender Inequality Index (1991)  \\\n",
       "index                                                  \n",
       "Afghanistan                                      NaN   \n",
       "Angola                                         0.723   \n",
       "Albania                                          NaN   \n",
       "Andorra                                          NaN   \n",
       "United Arab Emirates                           0.647   \n",
       "\n",
       "                      Gender Inequality Index (1992)  ...  \\\n",
       "index                                                 ...   \n",
       "Afghanistan                                      NaN  ...   \n",
       "Angola                                         0.721  ...   \n",
       "Albania                                          NaN  ...   \n",
       "Andorra                                          NaN  ...   \n",
       "United Arab Emirates                           0.640  ...   \n",
       "\n",
       "                      Gender Inequality Index (2012)  \\\n",
       "index                                                  \n",
       "Afghanistan                                    0.738   \n",
       "Angola                                         0.545   \n",
       "Albania                                        0.235   \n",
       "Andorra                                          NaN   \n",
       "United Arab Emirates                           0.171   \n",
       "\n",
       "                      Gender Inequality Index (2013)  \\\n",
       "index                                                  \n",
       "Afghanistan                                    0.728   \n",
       "Angola                                         0.540   \n",
       "Albania                                        0.225   \n",
       "Andorra                                          NaN   \n",
       "United Arab Emirates                           0.161   \n",
       "\n",
       "                      Gender Inequality Index (2014)  \\\n",
       "index                                                  \n",
       "Afghanistan                                    0.718   \n",
       "Angola                                         0.531   \n",
       "Albania                                        0.219   \n",
       "Andorra                                          NaN   \n",
       "United Arab Emirates                           0.151   \n",
       "\n",
       "                      Gender Inequality Index (2015)  \\\n",
       "index                                                  \n",
       "Afghanistan                                    0.706   \n",
       "Angola                                         0.530   \n",
       "Albania                                        0.204   \n",
       "Andorra                                          NaN   \n",
       "United Arab Emirates                           0.126   \n",
       "\n",
       "                      Gender Inequality Index (2016)  \\\n",
       "index                                                  \n",
       "Afghanistan                                    0.692   \n",
       "Angola                                         0.529   \n",
       "Albania                                        0.191   \n",
       "Andorra                                          NaN   \n",
       "United Arab Emirates                           0.118   \n",
       "\n",
       "                      Gender Inequality Index (2017)  \\\n",
       "index                                                  \n",
       "Afghanistan                                    0.678   \n",
       "Angola                                         0.538   \n",
       "Albania                                        0.170   \n",
       "Andorra                                          NaN   \n",
       "United Arab Emirates                           0.112   \n",
       "\n",
       "                      Gender Inequality Index (2018)  \\\n",
       "index                                                  \n",
       "Afghanistan                                    0.671   \n",
       "Angola                                         0.537   \n",
       "Albania                                        0.164   \n",
       "Andorra                                          NaN   \n",
       "United Arab Emirates                           0.103   \n",
       "\n",
       "                      Gender Inequality Index (2019)  \\\n",
       "index                                                  \n",
       "Afghanistan                                    0.665   \n",
       "Angola                                         0.537   \n",
       "Albania                                        0.156   \n",
       "Andorra                                          NaN   \n",
       "United Arab Emirates                           0.056   \n",
       "\n",
       "                      Gender Inequality Index (2020)  \\\n",
       "index                                                  \n",
       "Afghanistan                                    0.674   \n",
       "Angola                                         0.537   \n",
       "Albania                                        0.156   \n",
       "Andorra                                          NaN   \n",
       "United Arab Emirates                           0.050   \n",
       "\n",
       "                      Gender Inequality Index (2021)  \n",
       "index                                                 \n",
       "Afghanistan                                    0.678  \n",
       "Angola                                         0.537  \n",
       "Albania                                        0.144  \n",
       "Andorra                                          NaN  \n",
       "United Arab Emirates                           0.049  \n",
       "\n",
       "[5 rows x 39 columns]"
      ],
      "text/html": [
       "<div>\n",
       "<style scoped>\n",
       "    .dataframe tbody tr th:only-of-type {\n",
       "        vertical-align: middle;\n",
       "    }\n",
       "\n",
       "    .dataframe tbody tr th {\n",
       "        vertical-align: top;\n",
       "    }\n",
       "\n",
       "    .dataframe thead th {\n",
       "        text-align: right;\n",
       "    }\n",
       "</style>\n",
       "<table border=\"1\" class=\"dataframe\">\n",
       "  <thead>\n",
       "    <tr style=\"text-align: right;\">\n",
       "      <th></th>\n",
       "      <th>ISO3</th>\n",
       "      <th>Continente</th>\n",
       "      <th>Hemisfério</th>\n",
       "      <th>Grupo de Desenvolvimento Humano</th>\n",
       "      <th>Regiões em desenvolvimento do UNDP</th>\n",
       "      <th>IDH Rank (2021)</th>\n",
       "      <th>IDG Rank (2021)</th>\n",
       "      <th>Gender Inequality Index (1990)</th>\n",
       "      <th>Gender Inequality Index (1991)</th>\n",
       "      <th>Gender Inequality Index (1992)</th>\n",
       "      <th>...</th>\n",
       "      <th>Gender Inequality Index (2012)</th>\n",
       "      <th>Gender Inequality Index (2013)</th>\n",
       "      <th>Gender Inequality Index (2014)</th>\n",
       "      <th>Gender Inequality Index (2015)</th>\n",
       "      <th>Gender Inequality Index (2016)</th>\n",
       "      <th>Gender Inequality Index (2017)</th>\n",
       "      <th>Gender Inequality Index (2018)</th>\n",
       "      <th>Gender Inequality Index (2019)</th>\n",
       "      <th>Gender Inequality Index (2020)</th>\n",
       "      <th>Gender Inequality Index (2021)</th>\n",
       "    </tr>\n",
       "    <tr>\n",
       "      <th>index</th>\n",
       "      <th></th>\n",
       "      <th></th>\n",
       "      <th></th>\n",
       "      <th></th>\n",
       "      <th></th>\n",
       "      <th></th>\n",
       "      <th></th>\n",
       "      <th></th>\n",
       "      <th></th>\n",
       "      <th></th>\n",
       "      <th></th>\n",
       "      <th></th>\n",
       "      <th></th>\n",
       "      <th></th>\n",
       "      <th></th>\n",
       "      <th></th>\n",
       "      <th></th>\n",
       "      <th></th>\n",
       "      <th></th>\n",
       "      <th></th>\n",
       "      <th></th>\n",
       "    </tr>\n",
       "  </thead>\n",
       "  <tbody>\n",
       "    <tr>\n",
       "      <th>Afghanistan</th>\n",
       "      <td>AFG</td>\n",
       "      <td>Asia</td>\n",
       "      <td>Northern Hemisphere</td>\n",
       "      <td>Low</td>\n",
       "      <td>SA</td>\n",
       "      <td>180.0</td>\n",
       "      <td>167.0</td>\n",
       "      <td>NaN</td>\n",
       "      <td>NaN</td>\n",
       "      <td>NaN</td>\n",
       "      <td>...</td>\n",
       "      <td>0.738</td>\n",
       "      <td>0.728</td>\n",
       "      <td>0.718</td>\n",
       "      <td>0.706</td>\n",
       "      <td>0.692</td>\n",
       "      <td>0.678</td>\n",
       "      <td>0.671</td>\n",
       "      <td>0.665</td>\n",
       "      <td>0.674</td>\n",
       "      <td>0.678</td>\n",
       "    </tr>\n",
       "    <tr>\n",
       "      <th>Angola</th>\n",
       "      <td>AGO</td>\n",
       "      <td>Africa</td>\n",
       "      <td>Southern Hemisphere</td>\n",
       "      <td>Medium</td>\n",
       "      <td>SSA</td>\n",
       "      <td>148.0</td>\n",
       "      <td>136.0</td>\n",
       "      <td>0.725</td>\n",
       "      <td>0.723</td>\n",
       "      <td>0.721</td>\n",
       "      <td>...</td>\n",
       "      <td>0.545</td>\n",
       "      <td>0.540</td>\n",
       "      <td>0.531</td>\n",
       "      <td>0.530</td>\n",
       "      <td>0.529</td>\n",
       "      <td>0.538</td>\n",
       "      <td>0.537</td>\n",
       "      <td>0.537</td>\n",
       "      <td>0.537</td>\n",
       "      <td>0.537</td>\n",
       "    </tr>\n",
       "    <tr>\n",
       "      <th>Albania</th>\n",
       "      <td>ALB</td>\n",
       "      <td>Europe</td>\n",
       "      <td>Northern Hemisphere</td>\n",
       "      <td>High</td>\n",
       "      <td>ECA</td>\n",
       "      <td>67.0</td>\n",
       "      <td>39.0</td>\n",
       "      <td>NaN</td>\n",
       "      <td>NaN</td>\n",
       "      <td>NaN</td>\n",
       "      <td>...</td>\n",
       "      <td>0.235</td>\n",
       "      <td>0.225</td>\n",
       "      <td>0.219</td>\n",
       "      <td>0.204</td>\n",
       "      <td>0.191</td>\n",
       "      <td>0.170</td>\n",
       "      <td>0.164</td>\n",
       "      <td>0.156</td>\n",
       "      <td>0.156</td>\n",
       "      <td>0.144</td>\n",
       "    </tr>\n",
       "    <tr>\n",
       "      <th>Andorra</th>\n",
       "      <td>AND</td>\n",
       "      <td>Europe</td>\n",
       "      <td>Northern Hemisphere</td>\n",
       "      <td>Very High</td>\n",
       "      <td>NaN</td>\n",
       "      <td>40.0</td>\n",
       "      <td>NaN</td>\n",
       "      <td>NaN</td>\n",
       "      <td>NaN</td>\n",
       "      <td>NaN</td>\n",
       "      <td>...</td>\n",
       "      <td>NaN</td>\n",
       "      <td>NaN</td>\n",
       "      <td>NaN</td>\n",
       "      <td>NaN</td>\n",
       "      <td>NaN</td>\n",
       "      <td>NaN</td>\n",
       "      <td>NaN</td>\n",
       "      <td>NaN</td>\n",
       "      <td>NaN</td>\n",
       "      <td>NaN</td>\n",
       "    </tr>\n",
       "    <tr>\n",
       "      <th>United Arab Emirates</th>\n",
       "      <td>ARE</td>\n",
       "      <td>Asia</td>\n",
       "      <td>Northern Hemisphere</td>\n",
       "      <td>Very High</td>\n",
       "      <td>AS</td>\n",
       "      <td>26.0</td>\n",
       "      <td>11.0</td>\n",
       "      <td>0.659</td>\n",
       "      <td>0.647</td>\n",
       "      <td>0.640</td>\n",
       "      <td>...</td>\n",
       "      <td>0.171</td>\n",
       "      <td>0.161</td>\n",
       "      <td>0.151</td>\n",
       "      <td>0.126</td>\n",
       "      <td>0.118</td>\n",
       "      <td>0.112</td>\n",
       "      <td>0.103</td>\n",
       "      <td>0.056</td>\n",
       "      <td>0.050</td>\n",
       "      <td>0.049</td>\n",
       "    </tr>\n",
       "  </tbody>\n",
       "</table>\n",
       "<p>5 rows × 39 columns</p>\n",
       "</div>"
      ]
     },
     "execution_count": 52,
     "metadata": {},
     "output_type": "execute_result"
    }
   ],
   "execution_count": 52
  },
  {
   "cell_type": "markdown",
   "id": "fdce19e5",
   "metadata": {},
   "source": [
    "10) Acesse as informações da Argentina e do Brasil em um único acesso. "
   ]
  },
  {
   "cell_type": "code",
   "id": "736cf7ce",
   "metadata": {
    "ExecuteTime": {
     "end_time": "2025-04-18T00:22:23.931525Z",
     "start_time": "2025-04-18T00:22:23.909951Z"
    }
   },
   "source": "df.loc[[\"Brazil\", \"Argentina\"]]",
   "outputs": [
    {
     "data": {
      "text/plain": [
       "          ISO3 Continente           Hemisfério  \\\n",
       "index                                            \n",
       "Brazil     BRA    America  Southern Hemisphere   \n",
       "Argentina  ARG    America  Southern Hemisphere   \n",
       "\n",
       "          Grupo de Desenvolvimento Humano Regiões em desenvolvimento do UNDP  \\\n",
       "index                                                                          \n",
       "Brazil                               High                                LAC   \n",
       "Argentina                       Very High                                LAC   \n",
       "\n",
       "           IDH Rank (2021)  IDG Rank (2021)  Gender Inequality Index (1990)  \\\n",
       "index                                                                         \n",
       "Brazil                87.0             94.0                           0.552   \n",
       "Argentina             47.0             69.0                           0.442   \n",
       "\n",
       "           Gender Inequality Index (1991)  Gender Inequality Index (1992)  \\\n",
       "index                                                                       \n",
       "Brazil                              0.549                           0.545   \n",
       "Argentina                           0.439                           0.436   \n",
       "\n",
       "           ...  Gender Inequality Index (2012)  \\\n",
       "index      ...                                   \n",
       "Brazil     ...                           0.444   \n",
       "Argentina  ...                           0.360   \n",
       "\n",
       "           Gender Inequality Index (2013)  Gender Inequality Index (2014)  \\\n",
       "index                                                                       \n",
       "Brazil                              0.444                           0.440   \n",
       "Argentina                           0.356                           0.351   \n",
       "\n",
       "           Gender Inequality Index (2015)  Gender Inequality Index (2016)  \\\n",
       "index                                                                       \n",
       "Brazil                              0.437                           0.431   \n",
       "Argentina                           0.345                           0.338   \n",
       "\n",
       "           Gender Inequality Index (2017)  Gender Inequality Index (2018)  \\\n",
       "index                                                                       \n",
       "Brazil                              0.421                           0.401   \n",
       "Argentina                           0.328                           0.315   \n",
       "\n",
       "           Gender Inequality Index (2019)  Gender Inequality Index (2020)  \\\n",
       "index                                                                       \n",
       "Brazil                              0.395                           0.395   \n",
       "Argentina                           0.306                           0.293   \n",
       "\n",
       "           Gender Inequality Index (2021)  \n",
       "index                                      \n",
       "Brazil                              0.390  \n",
       "Argentina                           0.287  \n",
       "\n",
       "[2 rows x 39 columns]"
      ],
      "text/html": [
       "<div>\n",
       "<style scoped>\n",
       "    .dataframe tbody tr th:only-of-type {\n",
       "        vertical-align: middle;\n",
       "    }\n",
       "\n",
       "    .dataframe tbody tr th {\n",
       "        vertical-align: top;\n",
       "    }\n",
       "\n",
       "    .dataframe thead th {\n",
       "        text-align: right;\n",
       "    }\n",
       "</style>\n",
       "<table border=\"1\" class=\"dataframe\">\n",
       "  <thead>\n",
       "    <tr style=\"text-align: right;\">\n",
       "      <th></th>\n",
       "      <th>ISO3</th>\n",
       "      <th>Continente</th>\n",
       "      <th>Hemisfério</th>\n",
       "      <th>Grupo de Desenvolvimento Humano</th>\n",
       "      <th>Regiões em desenvolvimento do UNDP</th>\n",
       "      <th>IDH Rank (2021)</th>\n",
       "      <th>IDG Rank (2021)</th>\n",
       "      <th>Gender Inequality Index (1990)</th>\n",
       "      <th>Gender Inequality Index (1991)</th>\n",
       "      <th>Gender Inequality Index (1992)</th>\n",
       "      <th>...</th>\n",
       "      <th>Gender Inequality Index (2012)</th>\n",
       "      <th>Gender Inequality Index (2013)</th>\n",
       "      <th>Gender Inequality Index (2014)</th>\n",
       "      <th>Gender Inequality Index (2015)</th>\n",
       "      <th>Gender Inequality Index (2016)</th>\n",
       "      <th>Gender Inequality Index (2017)</th>\n",
       "      <th>Gender Inequality Index (2018)</th>\n",
       "      <th>Gender Inequality Index (2019)</th>\n",
       "      <th>Gender Inequality Index (2020)</th>\n",
       "      <th>Gender Inequality Index (2021)</th>\n",
       "    </tr>\n",
       "    <tr>\n",
       "      <th>index</th>\n",
       "      <th></th>\n",
       "      <th></th>\n",
       "      <th></th>\n",
       "      <th></th>\n",
       "      <th></th>\n",
       "      <th></th>\n",
       "      <th></th>\n",
       "      <th></th>\n",
       "      <th></th>\n",
       "      <th></th>\n",
       "      <th></th>\n",
       "      <th></th>\n",
       "      <th></th>\n",
       "      <th></th>\n",
       "      <th></th>\n",
       "      <th></th>\n",
       "      <th></th>\n",
       "      <th></th>\n",
       "      <th></th>\n",
       "      <th></th>\n",
       "      <th></th>\n",
       "    </tr>\n",
       "  </thead>\n",
       "  <tbody>\n",
       "    <tr>\n",
       "      <th>Brazil</th>\n",
       "      <td>BRA</td>\n",
       "      <td>America</td>\n",
       "      <td>Southern Hemisphere</td>\n",
       "      <td>High</td>\n",
       "      <td>LAC</td>\n",
       "      <td>87.0</td>\n",
       "      <td>94.0</td>\n",
       "      <td>0.552</td>\n",
       "      <td>0.549</td>\n",
       "      <td>0.545</td>\n",
       "      <td>...</td>\n",
       "      <td>0.444</td>\n",
       "      <td>0.444</td>\n",
       "      <td>0.440</td>\n",
       "      <td>0.437</td>\n",
       "      <td>0.431</td>\n",
       "      <td>0.421</td>\n",
       "      <td>0.401</td>\n",
       "      <td>0.395</td>\n",
       "      <td>0.395</td>\n",
       "      <td>0.390</td>\n",
       "    </tr>\n",
       "    <tr>\n",
       "      <th>Argentina</th>\n",
       "      <td>ARG</td>\n",
       "      <td>America</td>\n",
       "      <td>Southern Hemisphere</td>\n",
       "      <td>Very High</td>\n",
       "      <td>LAC</td>\n",
       "      <td>47.0</td>\n",
       "      <td>69.0</td>\n",
       "      <td>0.442</td>\n",
       "      <td>0.439</td>\n",
       "      <td>0.436</td>\n",
       "      <td>...</td>\n",
       "      <td>0.360</td>\n",
       "      <td>0.356</td>\n",
       "      <td>0.351</td>\n",
       "      <td>0.345</td>\n",
       "      <td>0.338</td>\n",
       "      <td>0.328</td>\n",
       "      <td>0.315</td>\n",
       "      <td>0.306</td>\n",
       "      <td>0.293</td>\n",
       "      <td>0.287</td>\n",
       "    </tr>\n",
       "  </tbody>\n",
       "</table>\n",
       "<p>2 rows × 39 columns</p>\n",
       "</div>"
      ]
     },
     "execution_count": 53,
     "metadata": {},
     "output_type": "execute_result"
    }
   ],
   "execution_count": 53
  },
  {
   "cell_type": "markdown",
   "id": "47fdffd5",
   "metadata": {},
   "source": [
    "11) Quais os diferentes valores (valores únicos) que aparecem nas colunas Continente, Hemisfério, Grupo de Desenvolvimento Humano e Regiões em desenvolvimento do UNDP"
   ]
  },
  {
   "cell_type": "code",
   "id": "1b95d046",
   "metadata": {
    "ExecuteTime": {
     "end_time": "2025-04-18T00:22:24.161842Z",
     "start_time": "2025-04-18T00:22:24.154976Z"
    }
   },
   "source": "df[\"Continente\"].unique()",
   "outputs": [
    {
     "data": {
      "text/plain": [
       "array(['Asia', 'Africa', 'Europe', 'America', 'Oceania'], dtype=object)"
      ]
     },
     "execution_count": 54,
     "metadata": {},
     "output_type": "execute_result"
    }
   ],
   "execution_count": 54
  },
  {
   "metadata": {
    "ExecuteTime": {
     "end_time": "2025-04-18T00:22:24.498144Z",
     "start_time": "2025-04-18T00:22:24.490059Z"
    }
   },
   "cell_type": "code",
   "source": "df[\"Regiões em desenvolvimento do UNDP\"].unique()",
   "id": "959760d3a76ebdd3",
   "outputs": [
    {
     "data": {
      "text/plain": [
       "array(['SA', 'SSA', 'ECA', nan, 'AS', 'LAC', 'EAP'], dtype=object)"
      ]
     },
     "execution_count": 55,
     "metadata": {},
     "output_type": "execute_result"
    }
   ],
   "execution_count": 55
  },
  {
   "metadata": {
    "ExecuteTime": {
     "end_time": "2025-04-18T00:22:24.693024Z",
     "start_time": "2025-04-18T00:22:24.686015Z"
    }
   },
   "cell_type": "code",
   "source": "df[\"Grupo de Desenvolvimento Humano\"].unique()",
   "id": "f972a499dc6d663b",
   "outputs": [
    {
     "data": {
      "text/plain": [
       "array(['Low', 'Medium', 'High', 'Very High', nan], dtype=object)"
      ]
     },
     "execution_count": 56,
     "metadata": {},
     "output_type": "execute_result"
    }
   ],
   "execution_count": 56
  },
  {
   "metadata": {
    "ExecuteTime": {
     "end_time": "2025-04-18T00:22:24.858391Z",
     "start_time": "2025-04-18T00:22:24.850847Z"
    }
   },
   "cell_type": "code",
   "source": "df[\"Hemisfério\"].unique()",
   "id": "6dd44491a7307552",
   "outputs": [
    {
     "data": {
      "text/plain": [
       "array(['Northern Hemisphere', 'Southern Hemisphere'], dtype=object)"
      ]
     },
     "execution_count": 57,
     "metadata": {},
     "output_type": "execute_result"
    }
   ],
   "execution_count": 57
  },
  {
   "cell_type": "markdown",
   "id": "58d6a2e0",
   "metadata": {},
   "source": [
    "12) Altere todos os \"Northern Hemisphere\" por \"Norte\" e todos os \"Southern Hemisphere\" por \"Sul\" "
   ]
  },
  {
   "cell_type": "code",
   "id": "a027bf9d",
   "metadata": {
    "ExecuteTime": {
     "end_time": "2025-04-18T00:22:25.075053Z",
     "start_time": "2025-04-18T00:22:25.066037Z"
    }
   },
   "source": [
    "df[\"Hemisfério\"] = df[\"Hemisfério\"].replace({\n",
    "    \"Northern Hemisphere\": \"Norte\",\n",
    "    \"Southern Hemisphere\": \"Sul\",\n",
    "})\n",
    "\n",
    "df[\"Hemisfério\"]"
   ],
   "outputs": [
    {
     "data": {
      "text/plain": [
       "index\n",
       "Afghanistan             Norte\n",
       "Angola                    Sul\n",
       "Albania                 Norte\n",
       "Andorra                 Norte\n",
       "United Arab Emirates    Norte\n",
       "                        ...  \n",
       "Samoa                     Sul\n",
       "Yemen                   Norte\n",
       "South Africa              Sul\n",
       "Zambia                    Sul\n",
       "Zimbabwe                  Sul\n",
       "Name: Hemisfério, Length: 195, dtype: object"
      ]
     },
     "execution_count": 58,
     "metadata": {},
     "output_type": "execute_result"
    }
   ],
   "execution_count": 58
  },
  {
   "cell_type": "markdown",
   "id": "e2f1fca5",
   "metadata": {},
   "source": [
    "13) Faça a atualização de todos os continentes para o português. Utilize um dicionário com a função replace."
   ]
  },
  {
   "cell_type": "code",
   "id": "b53bed97",
   "metadata": {
    "ExecuteTime": {
     "end_time": "2025-04-18T00:22:25.153743Z",
     "start_time": "2025-04-18T00:22:25.150538Z"
    }
   },
   "source": "",
   "outputs": [],
   "execution_count": null
  },
  {
   "cell_type": "markdown",
   "id": "20ffc53a",
   "metadata": {},
   "source": [
    "14) Verifique quantos e quais são os registros que contém valor nulo na coluna \"Grupo de Desenvolvimento Humano\""
   ]
  },
  {
   "cell_type": "code",
   "id": "d5a264ae",
   "metadata": {
    "ExecuteTime": {
     "end_time": "2025-04-18T00:22:25.228565Z",
     "start_time": "2025-04-18T00:22:25.209571Z"
    }
   },
   "source": "df[df[\"Grupo de Desenvolvimento Humano\"].isnull()]",
   "outputs": [
    {
     "data": {
      "text/plain": [
       "            ISO3 Continente Hemisfério Grupo de Desenvolvimento Humano  \\\n",
       "index                                                                    \n",
       "Monaco       MCO     Europe      Norte                             NaN   \n",
       "Nauru        NRU    Oceania        Sul                             NaN   \n",
       "North Korea  PRK       Asia      Norte                             NaN   \n",
       "Somalia      SOM     Africa      Norte                             NaN   \n",
       "\n",
       "            Regiões em desenvolvimento do UNDP  IDH Rank (2021)  \\\n",
       "index                                                             \n",
       "Monaco                                     NaN              NaN   \n",
       "Nauru                                      EAP              NaN   \n",
       "North Korea                                EAP              NaN   \n",
       "Somalia                                     AS              NaN   \n",
       "\n",
       "             IDG Rank (2021)  Gender Inequality Index (1990)  \\\n",
       "index                                                          \n",
       "Monaco                   NaN                             NaN   \n",
       "Nauru                    NaN                             NaN   \n",
       "North Korea              NaN                             NaN   \n",
       "Somalia                  NaN                             NaN   \n",
       "\n",
       "             Gender Inequality Index (1991)  Gender Inequality Index (1992)  \\\n",
       "index                                                                         \n",
       "Monaco                                  NaN                             NaN   \n",
       "Nauru                                   NaN                             NaN   \n",
       "North Korea                             NaN                             NaN   \n",
       "Somalia                                 NaN                             NaN   \n",
       "\n",
       "             ...  Gender Inequality Index (2012)  \\\n",
       "index        ...                                   \n",
       "Monaco       ...                             NaN   \n",
       "Nauru        ...                             NaN   \n",
       "North Korea  ...                             NaN   \n",
       "Somalia      ...                             NaN   \n",
       "\n",
       "             Gender Inequality Index (2013)  Gender Inequality Index (2014)  \\\n",
       "index                                                                         \n",
       "Monaco                                  NaN                             NaN   \n",
       "Nauru                                   NaN                             NaN   \n",
       "North Korea                             NaN                             NaN   \n",
       "Somalia                                 NaN                             NaN   \n",
       "\n",
       "             Gender Inequality Index (2015)  Gender Inequality Index (2016)  \\\n",
       "index                                                                         \n",
       "Monaco                                  NaN                             NaN   \n",
       "Nauru                                   NaN                             NaN   \n",
       "North Korea                             NaN                             NaN   \n",
       "Somalia                                 NaN                             NaN   \n",
       "\n",
       "             Gender Inequality Index (2017)  Gender Inequality Index (2018)  \\\n",
       "index                                                                         \n",
       "Monaco                                  NaN                             NaN   \n",
       "Nauru                                   NaN                             NaN   \n",
       "North Korea                             NaN                             NaN   \n",
       "Somalia                                 NaN                             NaN   \n",
       "\n",
       "             Gender Inequality Index (2019)  Gender Inequality Index (2020)  \\\n",
       "index                                                                         \n",
       "Monaco                                  NaN                             NaN   \n",
       "Nauru                                   NaN                             NaN   \n",
       "North Korea                             NaN                             NaN   \n",
       "Somalia                                 NaN                             NaN   \n",
       "\n",
       "             Gender Inequality Index (2021)  \n",
       "index                                        \n",
       "Monaco                                  NaN  \n",
       "Nauru                                   NaN  \n",
       "North Korea                             NaN  \n",
       "Somalia                                 NaN  \n",
       "\n",
       "[4 rows x 39 columns]"
      ],
      "text/html": [
       "<div>\n",
       "<style scoped>\n",
       "    .dataframe tbody tr th:only-of-type {\n",
       "        vertical-align: middle;\n",
       "    }\n",
       "\n",
       "    .dataframe tbody tr th {\n",
       "        vertical-align: top;\n",
       "    }\n",
       "\n",
       "    .dataframe thead th {\n",
       "        text-align: right;\n",
       "    }\n",
       "</style>\n",
       "<table border=\"1\" class=\"dataframe\">\n",
       "  <thead>\n",
       "    <tr style=\"text-align: right;\">\n",
       "      <th></th>\n",
       "      <th>ISO3</th>\n",
       "      <th>Continente</th>\n",
       "      <th>Hemisfério</th>\n",
       "      <th>Grupo de Desenvolvimento Humano</th>\n",
       "      <th>Regiões em desenvolvimento do UNDP</th>\n",
       "      <th>IDH Rank (2021)</th>\n",
       "      <th>IDG Rank (2021)</th>\n",
       "      <th>Gender Inequality Index (1990)</th>\n",
       "      <th>Gender Inequality Index (1991)</th>\n",
       "      <th>Gender Inequality Index (1992)</th>\n",
       "      <th>...</th>\n",
       "      <th>Gender Inequality Index (2012)</th>\n",
       "      <th>Gender Inequality Index (2013)</th>\n",
       "      <th>Gender Inequality Index (2014)</th>\n",
       "      <th>Gender Inequality Index (2015)</th>\n",
       "      <th>Gender Inequality Index (2016)</th>\n",
       "      <th>Gender Inequality Index (2017)</th>\n",
       "      <th>Gender Inequality Index (2018)</th>\n",
       "      <th>Gender Inequality Index (2019)</th>\n",
       "      <th>Gender Inequality Index (2020)</th>\n",
       "      <th>Gender Inequality Index (2021)</th>\n",
       "    </tr>\n",
       "    <tr>\n",
       "      <th>index</th>\n",
       "      <th></th>\n",
       "      <th></th>\n",
       "      <th></th>\n",
       "      <th></th>\n",
       "      <th></th>\n",
       "      <th></th>\n",
       "      <th></th>\n",
       "      <th></th>\n",
       "      <th></th>\n",
       "      <th></th>\n",
       "      <th></th>\n",
       "      <th></th>\n",
       "      <th></th>\n",
       "      <th></th>\n",
       "      <th></th>\n",
       "      <th></th>\n",
       "      <th></th>\n",
       "      <th></th>\n",
       "      <th></th>\n",
       "      <th></th>\n",
       "      <th></th>\n",
       "    </tr>\n",
       "  </thead>\n",
       "  <tbody>\n",
       "    <tr>\n",
       "      <th>Monaco</th>\n",
       "      <td>MCO</td>\n",
       "      <td>Europe</td>\n",
       "      <td>Norte</td>\n",
       "      <td>NaN</td>\n",
       "      <td>NaN</td>\n",
       "      <td>NaN</td>\n",
       "      <td>NaN</td>\n",
       "      <td>NaN</td>\n",
       "      <td>NaN</td>\n",
       "      <td>NaN</td>\n",
       "      <td>...</td>\n",
       "      <td>NaN</td>\n",
       "      <td>NaN</td>\n",
       "      <td>NaN</td>\n",
       "      <td>NaN</td>\n",
       "      <td>NaN</td>\n",
       "      <td>NaN</td>\n",
       "      <td>NaN</td>\n",
       "      <td>NaN</td>\n",
       "      <td>NaN</td>\n",
       "      <td>NaN</td>\n",
       "    </tr>\n",
       "    <tr>\n",
       "      <th>Nauru</th>\n",
       "      <td>NRU</td>\n",
       "      <td>Oceania</td>\n",
       "      <td>Sul</td>\n",
       "      <td>NaN</td>\n",
       "      <td>EAP</td>\n",
       "      <td>NaN</td>\n",
       "      <td>NaN</td>\n",
       "      <td>NaN</td>\n",
       "      <td>NaN</td>\n",
       "      <td>NaN</td>\n",
       "      <td>...</td>\n",
       "      <td>NaN</td>\n",
       "      <td>NaN</td>\n",
       "      <td>NaN</td>\n",
       "      <td>NaN</td>\n",
       "      <td>NaN</td>\n",
       "      <td>NaN</td>\n",
       "      <td>NaN</td>\n",
       "      <td>NaN</td>\n",
       "      <td>NaN</td>\n",
       "      <td>NaN</td>\n",
       "    </tr>\n",
       "    <tr>\n",
       "      <th>North Korea</th>\n",
       "      <td>PRK</td>\n",
       "      <td>Asia</td>\n",
       "      <td>Norte</td>\n",
       "      <td>NaN</td>\n",
       "      <td>EAP</td>\n",
       "      <td>NaN</td>\n",
       "      <td>NaN</td>\n",
       "      <td>NaN</td>\n",
       "      <td>NaN</td>\n",
       "      <td>NaN</td>\n",
       "      <td>...</td>\n",
       "      <td>NaN</td>\n",
       "      <td>NaN</td>\n",
       "      <td>NaN</td>\n",
       "      <td>NaN</td>\n",
       "      <td>NaN</td>\n",
       "      <td>NaN</td>\n",
       "      <td>NaN</td>\n",
       "      <td>NaN</td>\n",
       "      <td>NaN</td>\n",
       "      <td>NaN</td>\n",
       "    </tr>\n",
       "    <tr>\n",
       "      <th>Somalia</th>\n",
       "      <td>SOM</td>\n",
       "      <td>Africa</td>\n",
       "      <td>Norte</td>\n",
       "      <td>NaN</td>\n",
       "      <td>AS</td>\n",
       "      <td>NaN</td>\n",
       "      <td>NaN</td>\n",
       "      <td>NaN</td>\n",
       "      <td>NaN</td>\n",
       "      <td>NaN</td>\n",
       "      <td>...</td>\n",
       "      <td>NaN</td>\n",
       "      <td>NaN</td>\n",
       "      <td>NaN</td>\n",
       "      <td>NaN</td>\n",
       "      <td>NaN</td>\n",
       "      <td>NaN</td>\n",
       "      <td>NaN</td>\n",
       "      <td>NaN</td>\n",
       "      <td>NaN</td>\n",
       "      <td>NaN</td>\n",
       "    </tr>\n",
       "  </tbody>\n",
       "</table>\n",
       "<p>4 rows × 39 columns</p>\n",
       "</div>"
      ]
     },
     "execution_count": 59,
     "metadata": {},
     "output_type": "execute_result"
    }
   ],
   "execution_count": 59
  },
  {
   "metadata": {},
   "cell_type": "markdown",
   "source": "A coluna possui 4 valores nulos em Monaco, Nauru , Coreia do Norte e Somalia.",
   "id": "fdab36f330c5b45e"
  },
  {
   "cell_type": "markdown",
   "id": "f4464549",
   "metadata": {},
   "source": [
    "15) Remova os registros selecionados na questão anterior."
   ]
  },
  {
   "cell_type": "code",
   "id": "e284060b",
   "metadata": {
    "ExecuteTime": {
     "end_time": "2025-04-18T00:22:25.392819Z",
     "start_time": "2025-04-18T00:22:25.387924Z"
    }
   },
   "source": "df = df[df[\"Grupo de Desenvolvimento Humano\"].notnull()]",
   "outputs": [],
   "execution_count": 60
  },
  {
   "cell_type": "markdown",
   "id": "112049a7",
   "metadata": {},
   "source": [
    "16) O dataset ainda possuí valores nulos? "
   ]
  },
  {
   "cell_type": "code",
   "id": "f3cd08b0",
   "metadata": {
    "ExecuteTime": {
     "end_time": "2025-04-18T00:22:25.515875Z",
     "start_time": "2025-04-18T00:22:25.508352Z"
    }
   },
   "source": "df.isnull().sum()",
   "outputs": [
    {
     "data": {
      "text/plain": [
       "ISO3                                   0\n",
       "Continente                             0\n",
       "Hemisfério                             0\n",
       "Grupo de Desenvolvimento Humano        0\n",
       "Regiões em desenvolvimento do UNDP    43\n",
       "IDH Rank (2021)                        0\n",
       "IDG Rank (2021)                       21\n",
       "Gender Inequality Index (1990)        63\n",
       "Gender Inequality Index (1991)        63\n",
       "Gender Inequality Index (1992)        63\n",
       "Gender Inequality Index (1993)        63\n",
       "Gender Inequality Index (1994)        63\n",
       "Gender Inequality Index (1995)        61\n",
       "Gender Inequality Index (1996)        61\n",
       "Gender Inequality Index (1997)        61\n",
       "Gender Inequality Index (1998)        55\n",
       "Gender Inequality Index (1999)        50\n",
       "Gender Inequality Index (2000)        47\n",
       "Gender Inequality Index (2001)        42\n",
       "Gender Inequality Index (2002)        41\n",
       "Gender Inequality Index (2003)        38\n",
       "Gender Inequality Index (2004)        35\n",
       "Gender Inequality Index (2005)        32\n",
       "Gender Inequality Index (2006)        29\n",
       "Gender Inequality Index (2007)        28\n",
       "Gender Inequality Index (2008)        28\n",
       "Gender Inequality Index (2009)        28\n",
       "Gender Inequality Index (2010)        26\n",
       "Gender Inequality Index (2011)        24\n",
       "Gender Inequality Index (2012)        24\n",
       "Gender Inequality Index (2013)        24\n",
       "Gender Inequality Index (2014)        24\n",
       "Gender Inequality Index (2015)        23\n",
       "Gender Inequality Index (2016)        22\n",
       "Gender Inequality Index (2017)        21\n",
       "Gender Inequality Index (2018)        21\n",
       "Gender Inequality Index (2019)        21\n",
       "Gender Inequality Index (2020)        21\n",
       "Gender Inequality Index (2021)        21\n",
       "dtype: int64"
      ]
     },
     "execution_count": 61,
     "metadata": {},
     "output_type": "execute_result"
    }
   ],
   "execution_count": 61
  },
  {
   "metadata": {},
   "cell_type": "markdown",
   "source": "Sim, o dataset ainda possui diversos valores nulos.",
   "id": "3490ff1929cbfac8"
  },
  {
   "cell_type": "markdown",
   "id": "27ac1ea3",
   "metadata": {},
   "source": [
    "17) Ordene os valores pela coluna \"Gender Inequality Index (2021)\" e responda: quem são os top 5 países nesse ranking? (Ou seja, os países que possuem a menor desigualdade)"
   ]
  },
  {
   "cell_type": "code",
   "id": "ff0cfa34",
   "metadata": {
    "ExecuteTime": {
     "end_time": "2025-04-18T00:22:25.738373Z",
     "start_time": "2025-04-18T00:22:25.730062Z"
    }
   },
   "source": "df[\"Gender Inequality Index (2021)\"].sort_values(ascending= True)",
   "outputs": [
    {
     "data": {
      "text/plain": [
       "index\n",
       "Denmark            0.013\n",
       "Norway             0.016\n",
       "Switzerland        0.018\n",
       "Sweden             0.023\n",
       "Netherlands        0.025\n",
       "                   ...  \n",
       "Solomon Islands      NaN\n",
       "San Marino           NaN\n",
       "Seychelles           NaN\n",
       "Tuvalu               NaN\n",
       "Vanuatu              NaN\n",
       "Name: Gender Inequality Index (2021), Length: 191, dtype: float64"
      ]
     },
     "execution_count": 62,
     "metadata": {},
     "output_type": "execute_result"
    }
   ],
   "execution_count": 62
  },
  {
   "metadata": {},
   "cell_type": "markdown",
   "source": "Os países com menor desigualdade são: Dinamarca, Finlândia, Suíça e Países Baixos.",
   "id": "e4a1c3f71953c136"
  },
  {
   "cell_type": "markdown",
   "id": "49959c50",
   "metadata": {},
   "source": [
    "18) E os cinco últimos colocados, quais seriam? Desconsidere os valores Nulos. Ou seja, os últimos colocados que de fato foram calculados."
   ]
  },
  {
   "cell_type": "code",
   "id": "0c542e39",
   "metadata": {
    "ExecuteTime": {
     "end_time": "2025-04-18T00:22:25.987881Z",
     "start_time": "2025-04-18T00:22:25.979165Z"
    }
   },
   "source": "df[\"Gender Inequality Index (2021)\"].sort_values(ascending= False)",
   "outputs": [
    {
     "data": {
      "text/plain": [
       "index\n",
       "Yemen                       0.820\n",
       "Papua New Guinea            0.725\n",
       "Nigeria                     0.680\n",
       "Afghanistan                 0.678\n",
       "Central African Republic    0.672\n",
       "                            ...  \n",
       "Solomon Islands               NaN\n",
       "San Marino                    NaN\n",
       "Seychelles                    NaN\n",
       "Tuvalu                        NaN\n",
       "Vanuatu                       NaN\n",
       "Name: Gender Inequality Index (2021), Length: 191, dtype: float64"
      ]
     },
     "execution_count": 63,
     "metadata": {},
     "output_type": "execute_result"
    }
   ],
   "execution_count": 63
  },
  {
   "metadata": {},
   "cell_type": "markdown",
   "source": "Os países com maior desigualdade são: Yemen, Papua Nova Guiné, Nigéria, Afeganistão e Republica Central Africana.",
   "id": "66bb9d3a80da5d24"
  },
  {
   "cell_type": "markdown",
   "id": "723f74ca",
   "metadata": {},
   "source": [
    "19) Apresente a média de Gender Inequality Index (2021)  dos países da Região em desenvolvimento do UNDP - LAC (Latin America and the Caribbean)"
   ]
  },
  {
   "cell_type": "code",
   "id": "b8831d31",
   "metadata": {
    "ExecuteTime": {
     "end_time": "2025-04-18T00:22:26.153464Z",
     "start_time": "2025-04-18T00:22:26.130799Z"
    }
   },
   "source": [
    "lac = df[df[\"Regiões em desenvolvimento do UNDP\"] == \"LAC\"]\n",
    "lac[\"Gender Inequality Index (2021)\"].mean()"
   ],
   "outputs": [
    {
     "data": {
      "text/plain": [
       "np.float64(0.37751724137931036)"
      ]
     },
     "execution_count": 64,
     "metadata": {},
     "output_type": "execute_result"
    }
   ],
   "execution_count": 64
  },
  {
   "cell_type": "markdown",
   "id": "923b1617",
   "metadata": {},
   "source": [
    "20) Apresente a média de Gender Inequality Index (2021) para cada Região em desenvolvimento do UNDP (utilize o comando group by)"
   ]
  },
  {
   "cell_type": "code",
   "id": "d2ec4afd",
   "metadata": {
    "ExecuteTime": {
     "end_time": "2025-04-18T00:27:22.550830Z",
     "start_time": "2025-04-18T00:27:22.540358Z"
    }
   },
   "source": "df.groupby(\"Regiões em desenvolvimento do UNDP\")[\"Gender Inequality Index (2021)\"].mean()",
   "outputs": [
    {
     "data": {
      "text/plain": [
       "Regiões em desenvolvimento do UNDP\n",
       "AS     0.382235\n",
       "EAP    0.378294\n",
       "ECA    0.203235\n",
       "LAC    0.377517\n",
       "SA     0.476556\n",
       "SSA    0.552452\n",
       "Name: Gender Inequality Index (2021), dtype: float64"
      ]
     },
     "execution_count": 66,
     "metadata": {},
     "output_type": "execute_result"
    }
   ],
   "execution_count": 66
  },
  {
   "cell_type": "markdown",
   "id": "76a187a4",
   "metadata": {},
   "source": [
    "21) Qual o nome do país com o menor índice de desigualdade no ano de 2021 por continente? "
   ]
  },
  {
   "cell_type": "code",
   "id": "67ac5540",
   "metadata": {
    "ExecuteTime": {
     "end_time": "2025-04-18T00:22:26.390358Z",
     "start_time": "2025-04-18T00:22:26.386422Z"
    }
   },
   "source": [],
   "outputs": [],
   "execution_count": null
  },
  {
   "cell_type": "markdown",
   "id": "1b591d5b",
   "metadata": {},
   "source": [
    "22) Verifique a posição do IDH Rank (2021) dos países que você obteve como resposta no exercício anterior. "
   ]
  },
  {
   "cell_type": "code",
   "id": "07b5dca3",
   "metadata": {
    "ExecuteTime": {
     "end_time": "2025-04-18T00:22:26.438152Z",
     "start_time": "2025-04-18T00:22:26.433546Z"
    }
   },
   "source": [],
   "outputs": [],
   "execution_count": null
  },
  {
   "cell_type": "markdown",
   "id": "62446b1e",
   "metadata": {},
   "source": [
    "23) Existe uma correlação entre o 'IDH Rank (2021)' e o 'IDG Rank (2021)'? Interprete o resultado. "
   ]
  },
  {
   "cell_type": "code",
   "id": "bf86f478",
   "metadata": {
    "ExecuteTime": {
     "end_time": "2025-04-18T00:22:26.459927Z",
     "start_time": "2025-04-18T00:22:26.455722Z"
    }
   },
   "source": [],
   "outputs": [],
   "execution_count": null
  },
  {
   "cell_type": "markdown",
   "id": "cac1fbb7",
   "metadata": {},
   "source": [
    "24) Aplique o cálculo da distância interquartílica para determinar se existem valores outliers na coluna \"Gender Inequality Index (2021)\" Lembre-se que o cálculo da distância interquartílica é dado por: \n",
    "\n",
    "IQR = q3 - q1\n",
    "\n",
    "Limite_inferior = q1 - 1.5*IQR\n",
    "\n",
    "Limite_superior = q3 + 1.5*IQR"
   ]
  },
  {
   "cell_type": "code",
   "id": "45084041",
   "metadata": {
    "ExecuteTime": {
     "end_time": "2025-04-18T00:22:26.495740Z",
     "start_time": "2025-04-18T00:22:26.492220Z"
    }
   },
   "source": [],
   "outputs": [],
   "execution_count": null
  },
  {
   "cell_type": "markdown",
   "id": "f38e316b",
   "metadata": {},
   "source": [
    "25) Faça o gráfico bloxplot da coluna Gender Inequality Index (2021) e verifique a resposta do exercício anterior. "
   ]
  },
  {
   "cell_type": "code",
   "id": "c49ae851",
   "metadata": {
    "ExecuteTime": {
     "end_time": "2025-04-18T00:22:26.538165Z",
     "start_time": "2025-04-18T00:22:26.534094Z"
    }
   },
   "source": [],
   "outputs": [],
   "execution_count": null
  },
  {
   "cell_type": "markdown",
   "id": "70db99a5",
   "metadata": {},
   "source": [
    "26) Faça o histograma para \"Gender Inequality Index (2021)\" e responda: os dados estão distribuidos no formato da distruição normal?"
   ]
  },
  {
   "cell_type": "code",
   "id": "5b9ec19a",
   "metadata": {
    "ExecuteTime": {
     "end_time": "2025-04-18T00:22:26.594506Z",
     "start_time": "2025-04-18T00:22:26.590318Z"
    }
   },
   "source": [],
   "outputs": [],
   "execution_count": null
  },
  {
   "cell_type": "markdown",
   "id": "a5be3737",
   "metadata": {},
   "source": [
    "27) Entre os anos de 1990 e 2021, qual foi o país que mais evoluí no índice? Considere apenas a listagem dos 128 países disponíveis em 1990."
   ]
  },
  {
   "cell_type": "code",
   "id": "d4387c93",
   "metadata": {
    "ExecuteTime": {
     "end_time": "2025-04-18T00:22:26.645182Z",
     "start_time": "2025-04-18T00:22:26.641169Z"
    }
   },
   "source": [],
   "outputs": [],
   "execution_count": null
  },
  {
   "cell_type": "markdown",
   "id": "3b6105d2",
   "metadata": {},
   "source": [
    "28) Faça um gráfico de linha que apresente duas séries:\n",
    "\n",
    "    -A primeira representa a  evolução do Brasil no período de 1990 a 2021\n",
    "    -A segunda série representa a média do indice dos paises da LAC.\n",
    "    \n",
    "    Eixo X - Anos\n",
    "    Eixo Y - Índice."
   ]
  },
  {
   "cell_type": "code",
   "id": "bf7ef780",
   "metadata": {
    "ExecuteTime": {
     "end_time": "2025-04-18T00:22:26.695375Z",
     "start_time": "2025-04-18T00:22:26.692351Z"
    }
   },
   "source": [],
   "outputs": [],
   "execution_count": null
  },
  {
   "cell_type": "markdown",
   "id": "f6809792",
   "metadata": {},
   "source": [
    "29) Escolha um país a sua escolha e faça um gráfico de linha para apresentar a evolução do índice (Similar ao Brasil no exercício anterior). A diferença que desta vez os dados deverão estar rotulados. Dica: Utilize a função Annotate."
   ]
  },
  {
   "cell_type": "code",
   "id": "e798b71c",
   "metadata": {
    "ExecuteTime": {
     "end_time": "2025-04-18T00:22:26.746493Z",
     "start_time": "2025-04-18T00:22:26.743458Z"
    }
   },
   "source": [],
   "outputs": [],
   "execution_count": null
  },
  {
   "cell_type": "markdown",
   "id": "fcd3ea0e",
   "metadata": {},
   "source": [
    "30) Faça um gráfico de barras para indicar a quantidade de países em cada continente que contém classificado grupo de desenvolvimento Very High. "
   ]
  },
  {
   "cell_type": "code",
   "id": "36e55ec7",
   "metadata": {
    "ExecuteTime": {
     "end_time": "2025-04-18T00:22:26.774794Z",
     "start_time": "2025-04-18T00:22:26.770690Z"
    }
   },
   "source": [],
   "outputs": [],
   "execution_count": null
  },
  {
   "cell_type": "markdown",
   "id": "a932241a",
   "metadata": {},
   "source": [
    "31) Faça um gráfico de pizza para representar a quantidade de países em cada hemisfério."
   ]
  },
  {
   "cell_type": "code",
   "id": "1d4c00b9",
   "metadata": {
    "ExecuteTime": {
     "end_time": "2025-04-18T00:22:26.802265Z",
     "start_time": "2025-04-18T00:22:26.799348Z"
    }
   },
   "source": [],
   "outputs": [],
   "execution_count": null
  },
  {
   "cell_type": "markdown",
   "id": "f615bfe7",
   "metadata": {},
   "source": [
    "32) Faça um gráfico de dispersão onde o eixo X representa o IDH Rank, o eixo Y representa o IDG Rank e os marcadores representarão os continentes dos países. Escolha uma cor e um marcador diferente para cada continente.\n"
   ]
  },
  {
   "cell_type": "code",
   "id": "39462f4a",
   "metadata": {
    "ExecuteTime": {
     "end_time": "2025-04-18T00:22:26.860809Z",
     "start_time": "2025-04-18T00:22:26.856584Z"
    }
   },
   "source": [],
   "outputs": [],
   "execution_count": null
  },
  {
   "cell_type": "markdown",
   "id": "3d7c8e26",
   "metadata": {},
   "source": [
    "33) Faça uma análise dos dados e gere um gráfico a sua escolha. "
   ]
  },
  {
   "cell_type": "code",
   "id": "41b3155f",
   "metadata": {
    "ExecuteTime": {
     "end_time": "2025-04-18T00:22:26.872012Z",
     "start_time": "2025-04-18T00:22:26.868855Z"
    }
   },
   "source": [],
   "outputs": [],
   "execution_count": null
  },
  {
   "cell_type": "markdown",
   "id": "b7d13dd1",
   "metadata": {},
   "source": [
    "34) Faça uma análise dos dados e gere um gráfico a sua escolha. "
   ]
  },
  {
   "cell_type": "code",
   "id": "7d66a831",
   "metadata": {
    "ExecuteTime": {
     "end_time": "2025-04-18T00:22:26.903462Z",
     "start_time": "2025-04-18T00:22:26.899130Z"
    }
   },
   "source": [],
   "outputs": [],
   "execution_count": null
  },
  {
   "cell_type": "markdown",
   "id": "ad701e67",
   "metadata": {},
   "source": [
    "35) Crie um arquivo .csv para salvar as informações dos países da Ásia em um arquivo separado. \n",
    "A primeira linha do arquivo deverá conter o nome de todas as colunas. \n",
    "As colunas presente no arquivo deverão ser: Nome, ISO3,Continente,Hemisfério,Grupo de Desenvolvimento Humano,Regiões em desenvolvimento do UNDP,IDH Rank (2021),IDG Rank (2021)"
   ]
  },
  {
   "cell_type": "code",
   "id": "107989e6",
   "metadata": {
    "ExecuteTime": {
     "end_time": "2025-04-18T00:22:26.964356Z",
     "start_time": "2025-04-18T00:22:26.960035Z"
    }
   },
   "source": [],
   "outputs": [],
   "execution_count": null
  }
 ],
 "metadata": {
  "kernelspec": {
   "display_name": "Python 3 (ipykernel)",
   "language": "python",
   "name": "python3"
  },
  "language_info": {
   "codemirror_mode": {
    "name": "ipython",
    "version": 3
   },
   "file_extension": ".py",
   "mimetype": "text/x-python",
   "name": "python",
   "nbconvert_exporter": "python",
   "pygments_lexer": "ipython3",
   "version": "3.9.13"
  }
 },
 "nbformat": 4,
 "nbformat_minor": 5
}
